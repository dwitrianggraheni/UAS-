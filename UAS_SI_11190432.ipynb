{
 "cells": [
  {
   "cell_type": "code",
   "execution_count": null,
   "metadata": {
    "id": "PyOPiCv8CwFD"
   },
   "outputs": [],
   "source": []
  },
  {
   "cell_type": "markdown",
   "metadata": {
    "id": "wmLXDio5Dedv"
   },
   "source": [
    "**NIM :**\n",
    "\n",
    "**Nama :**"
   ]
  },
  {
   "cell_type": "markdown",
   "metadata": {
    "id": "4P01AZZYDrDC"
   },
   "source": [
    "\n",
    "1. Ubah nama file notebook ini dengan format **UAS_SI_NIM.ipynb**\n",
    "Contoh : UAS_SI_88199981.ipynb\n",
    "\n",
    "2. Desain Class untuk bangun ruang pada kasus UTS anda. \n",
    "3. Implementasikan Enskapsulasi untuk Class Bangun Datar yang anda rancang.  \n",
    "4. Implentasikan hasil desain class anda dengan membuat 4 (empat) buah objek objek yang berbeda dari dari kelas yang anda. \n",
    "5. Berikan contoh implementasi konsep pewarisan dari class yang anda buat.\n",
    "6. Berikan contoh implementasi konsep polymorphism dari class yang anda buat.\n",
    "7. Berikan penjelasan dari kode yang anda buat untuk point 2 - 6 diatas \n"
   ]
  },
  {
   "cell_type": "code",
   "execution_count": 2,
   "metadata": {
    "id": "xC7nBm7tFn_6"
   },
   "outputs": [],
   "source": [
    "#Jawab\n",
    "class limas:                                                         #class limas menunjukkan sebuah class baru\n",
    "    def __init__(self, Panjang, Lebar, Tinggi, Alas, Sisi_tegak):    #def init menerima sebuah parameter bernama nama selain self,init berguna untuk melakukan inisialisasi pembuatan object dari class.\n",
    "        self.Panjang = Panjang                                       #panjang,lebar,tinggi, alas, sisi_tegak merupakan sebuah object\n",
    "        self.Lebar = Lebar\n",
    "        self.Tinggi = Tinggi\n",
    "        self.Alas = Alas\n",
    "        self.Sisi_tegak = Sisi_tegak\n",
    "        \n",
    "    def volumelimas(self):\n",
    "        return (1/3*( 1/2 * self.Panjang * self.Lebar )*self.Tinggi) #untuk output hasil perhitungan dari volume limas segitiga\n",
    "    \n",
    "class segitiga(limas):                                               #class segitiga (limas )\n",
    "    \n",
    "    def __init__(self, Panjang, Lebar, Tinggi, Alas,Sisi_tegak):   \n",
    "        super().__init__(Panjang, Lebar, Tinggi, Alas, Sisi_tegak)   #rumus pemanggil untuk induk class\n",
    "        \n",
    "    def Luas_Alas(self):\n",
    "        return (1/2*self.Alas*self.Tinggi)                           #untuk output hasil perhitungan dari luas_alas segitiga(limas)\n",
    "    \n",
    "    def Keliling_Alas(self):\n",
    "        return (self.Alas*self.Tinggi/2)                            #return untuk keluar dari fungsi  dan kembali ke baris selanjutnya dimana fungsi dipanggil.\n",
    "    \n",
    "    def Luas_permukaan(self):                                                                       \n",
    "        \n",
    "        return (self.Alas+self.Sisi_tegak)                         #untuk output hasil perhitungan dari luas_permukaan\n",
    "    \n"
   ]
  },
  {
   "cell_type": "code",
   "execution_count": 3,
   "metadata": {},
   "outputs": [],
   "source": [
    "coba=limas(12,14,12,13,11)"
   ]
  },
  {
   "cell_type": "code",
   "execution_count": 15,
   "metadata": {},
   "outputs": [
    {
     "data": {
      "text/plain": [
       "336.0"
      ]
     },
     "execution_count": 15,
     "metadata": {},
     "output_type": "execute_result"
    }
   ],
   "source": [
    "coba.volumelimas()"
   ]
  },
  {
   "cell_type": "code",
   "execution_count": 16,
   "metadata": {},
   "outputs": [],
   "source": [
    "coba2 = segitiga(13,10,13,9,9)"
   ]
  },
  {
   "cell_type": "code",
   "execution_count": 17,
   "metadata": {},
   "outputs": [
    {
     "data": {
      "text/plain": [
       "58.5"
      ]
     },
     "execution_count": 17,
     "metadata": {},
     "output_type": "execute_result"
    }
   ],
   "source": [
    "coba2.Luas_Alas()"
   ]
  },
  {
   "cell_type": "code",
   "execution_count": 18,
   "metadata": {},
   "outputs": [
    {
     "data": {
      "text/plain": [
       "58.5"
      ]
     },
     "execution_count": 18,
     "metadata": {},
     "output_type": "execute_result"
    }
   ],
   "source": [
    "coba2.Keliling_Alas()"
   ]
  },
  {
   "cell_type": "code",
   "execution_count": 19,
   "metadata": {},
   "outputs": [
    {
     "data": {
      "text/plain": [
       "18"
      ]
     },
     "execution_count": 19,
     "metadata": {},
     "output_type": "execute_result"
    }
   ],
   "source": [
    "coba2.Luas_permukaan()"
   ]
  },
  {
   "cell_type": "code",
   "execution_count": null,
   "metadata": {},
   "outputs": [],
   "source": []
  }
 ],
 "metadata": {
  "colab": {
   "collapsed_sections": [],
   "name": "UAS_SI_NIM.ipynb",
   "provenance": []
  },
  "kernelspec": {
   "display_name": "Python 3",
   "language": "python",
   "name": "python3"
  },
  "language_info": {
   "codemirror_mode": {
    "name": "ipython",
    "version": 3
   },
   "file_extension": ".py",
   "mimetype": "text/x-python",
   "name": "python",
   "nbconvert_exporter": "python",
   "pygments_lexer": "ipython3",
   "version": "3.8.3"
  }
 },
 "nbformat": 4,
 "nbformat_minor": 1
}
